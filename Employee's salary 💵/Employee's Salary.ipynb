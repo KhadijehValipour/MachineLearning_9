{
 "cells": [
  {
   "cell_type": "code",
   "execution_count": null,
   "metadata": {},
   "outputs": [],
   "source": [
    "import numpy as np\n",
    "import pandas as pd\n",
    "import matplotlib.pyplot as plt\n",
    "from sklearn import datasets\n",
    "from sklearn.datasets import make_regression\n",
    "from sklearn.model_selection import train_test_split"
   ]
  },
  {
   "cell_type": "code",
   "execution_count": null,
   "metadata": {},
   "outputs": [],
   "source": [
    "x, y, coef = datasets.make_regression(n_samples=100,#number of samples\n",
    "                                      n_features=1,#number of features\n",
    "                                      n_informative=1,#number of useful features \n",
    "                                      noise=10,#bias and standard deviation of the guassian noise\n",
    "                                      coef=True,#true coefficient used to generated the data\n",
    "                                      random_state=0) #set for same data points for each run\n"
   ]
  },
  {
   "cell_type": "code",
   "execution_count": null,
   "metadata": {},
   "outputs": [],
   "source": [
    "# Scale feature x (years of experience) to range 0..20\n",
    "x = np.interp(x, (x.min(), x.max()), (0, 20))\n",
    "\n",
    "# Scale target y (salary) to range 20000..150000 \n",
    "y = np.interp(y, (y.min(), y.max()), (20000, 150000))\n",
    "\n",
    "plt.ion() #interactive plot on\n",
    "plt.plot(x,y,'.',label='training data')\n",
    "plt.xlabel('Years of experience');plt.ylabel('Salary $')\n",
    "plt.title('Experience Vs. Salary')\n",
    "plt.show()"
   ]
  },
  {
   "cell_type": "code",
   "execution_count": null,
   "metadata": {},
   "outputs": [],
   "source": [
    "df = pd.DataFrame(data={'experience': x.flatten() , 'salary': y})\n",
    "df.head(10)"
   ]
  },
  {
   "cell_type": "code",
   "execution_count": null,
   "metadata": {},
   "outputs": [],
   "source": [
    "X = df[['experience']].to_numpy()\n",
    "Y = df[['salary']].to_numpy()\n",
    "\n",
    "X.shape ,Y.shape"
   ]
  },
  {
   "cell_type": "code",
   "execution_count": null,
   "metadata": {},
   "outputs": [],
   "source": [
    "X_train ,X_test ,Y_train ,Y_test = train_test_split(X,Y)\n",
    "\n",
    "print(X_train.shape)\n",
    "print(X_test.shape)\n",
    "print(Y_train.shape)\n",
    "print(Y_test.shape)\n"
   ]
  },
  {
   "cell_type": "code",
   "execution_count": null,
   "metadata": {},
   "outputs": [],
   "source": [
    "import perceptron"
   ]
  },
  {
   "cell_type": "code",
   "execution_count": null,
   "metadata": {},
   "outputs": [],
   "source": [
    "from perceptron import perceptron"
   ]
  },
  {
   "cell_type": "code",
   "execution_count": null,
   "metadata": {},
   "outputs": [],
   "source": [
    "fig, (ax1, ax2) = plt.subplots(1, 2, figsize=(12,6))\n",
    "\n",
    "ax1.scatter(X_train, Y_train, c='blue')\n",
    "ax1.plot(X_train, Y_pred, c='red')\n",
    "ax1.set_title(\"Data\")\n",
    "ax1.set_xlabel(\"Experience\")\n",
    "ax1.set_ylabel(\"Salary\")\n",
    "ax1.legend(['data','perceptron prediction'])\n",
    "\n",
    "# Show Loss\n",
    "ax2.plot(p.losses_train)\n",
    "ax2.set_title(\"Loss Train\")\n",
    "ax2.set_xlabel(\"Epoch\")\n",
    "ax2.set_ylabel(\"Loss\")\n",
    "\n",
    "\n",
    "plt.show()"
   ]
  }
 ],
 "metadata": {
  "kernelspec": {
   "display_name": "Python 3",
   "language": "python",
   "name": "python3"
  },
  "language_info": {
   "codemirror_mode": {
    "name": "ipython",
    "version": 3
   },
   "file_extension": ".py",
   "mimetype": "text/x-python",
   "name": "python",
   "nbconvert_exporter": "python",
   "pygments_lexer": "ipython3",
   "version": "3.11.4"
  },
  "orig_nbformat": 4
 },
 "nbformat": 4,
 "nbformat_minor": 2
}
